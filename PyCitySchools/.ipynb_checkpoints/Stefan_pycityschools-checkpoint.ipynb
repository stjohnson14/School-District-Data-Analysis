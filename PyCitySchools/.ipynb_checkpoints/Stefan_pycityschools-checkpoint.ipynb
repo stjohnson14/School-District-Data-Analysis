{
 "cells": [
  {
   "cell_type": "code",
   "execution_count": 142,
   "id": "672b0ee3-e274-4d3a-9022-272fb1b82df3",
   "metadata": {},
   "outputs": [],
   "source": [
    "import pandas as pd\n",
    "import csv as csv\n",
    "\n"
   ]
  },
  {
   "cell_type": "code",
   "execution_count": 23,
   "id": "ea031d26-e03b-4273-b953-afb09667446c",
   "metadata": {},
   "outputs": [],
   "source": [
    "school_data_load= 'Resources/schools_complete.csv'\n"
   ]
  },
  {
   "cell_type": "code",
   "execution_count": 24,
   "id": "896c864b-ebf7-42d3-ba5e-5f6ae6fd9616",
   "metadata": {},
   "outputs": [],
   "source": [
    "student_data_load= 'Resources/students_complete.csv'"
   ]
  },
  {
   "cell_type": "code",
   "execution_count": 28,
   "id": "753c6a1c-5434-4b9f-baa2-cef56c744820",
   "metadata": {},
   "outputs": [],
   "source": [
    "school_data = pd.read_csv(school_data_load)\n",
    "student_data= pd.read_csv(student_data_load)"
   ]
  },
  {
   "cell_type": "code",
   "execution_count": null,
   "id": "fadb8d11-781e-4378-aab0-ada6c7885ea4",
   "metadata": {},
   "outputs": [],
   "source": []
  },
  {
   "cell_type": "code",
   "execution_count": null,
   "id": "5561ac45-9d64-4c72-ac12-eacb5cd47cf3",
   "metadata": {},
   "outputs": [],
   "source": []
  },
  {
   "cell_type": "code",
   "execution_count": 37,
   "id": "c7176ac8-e97f-465d-aef0-7eb02f6b3e5e",
   "metadata": {},
   "outputs": [],
   "source": [
    "school_data_complete = pd.merge(student_data, school_data, on= 'school_name')"
   ]
  },
  {
   "cell_type": "code",
   "execution_count": 58,
   "id": "b34db8e4-5369-454d-b673-fd599b225f85",
   "metadata": {},
   "outputs": [
    {
     "data": {
      "text/html": [
       "<div>\n",
       "<style scoped>\n",
       "    .dataframe tbody tr th:only-of-type {\n",
       "        vertical-align: middle;\n",
       "    }\n",
       "\n",
       "    .dataframe tbody tr th {\n",
       "        vertical-align: top;\n",
       "    }\n",
       "\n",
       "    .dataframe thead th {\n",
       "        text-align: right;\n",
       "    }\n",
       "</style>\n",
       "<table border=\"1\" class=\"dataframe\">\n",
       "  <thead>\n",
       "    <tr style=\"text-align: right;\">\n",
       "      <th></th>\n",
       "      <th>Student ID</th>\n",
       "      <th>student_name</th>\n",
       "      <th>gender</th>\n",
       "      <th>grade</th>\n",
       "      <th>school_name</th>\n",
       "      <th>reading_score</th>\n",
       "      <th>math_score</th>\n",
       "      <th>School ID</th>\n",
       "      <th>type</th>\n",
       "      <th>size</th>\n",
       "      <th>budget</th>\n",
       "    </tr>\n",
       "  </thead>\n",
       "  <tbody>\n",
       "    <tr>\n",
       "      <th>0</th>\n",
       "      <td>0</td>\n",
       "      <td>Paul Bradley</td>\n",
       "      <td>M</td>\n",
       "      <td>9th</td>\n",
       "      <td>Huang High School</td>\n",
       "      <td>66</td>\n",
       "      <td>79</td>\n",
       "      <td>0</td>\n",
       "      <td>District</td>\n",
       "      <td>2917</td>\n",
       "      <td>1910635</td>\n",
       "    </tr>\n",
       "    <tr>\n",
       "      <th>1</th>\n",
       "      <td>1</td>\n",
       "      <td>Victor Smith</td>\n",
       "      <td>M</td>\n",
       "      <td>12th</td>\n",
       "      <td>Huang High School</td>\n",
       "      <td>94</td>\n",
       "      <td>61</td>\n",
       "      <td>0</td>\n",
       "      <td>District</td>\n",
       "      <td>2917</td>\n",
       "      <td>1910635</td>\n",
       "    </tr>\n",
       "    <tr>\n",
       "      <th>2</th>\n",
       "      <td>2</td>\n",
       "      <td>Kevin Rodriguez</td>\n",
       "      <td>M</td>\n",
       "      <td>12th</td>\n",
       "      <td>Huang High School</td>\n",
       "      <td>90</td>\n",
       "      <td>60</td>\n",
       "      <td>0</td>\n",
       "      <td>District</td>\n",
       "      <td>2917</td>\n",
       "      <td>1910635</td>\n",
       "    </tr>\n",
       "    <tr>\n",
       "      <th>3</th>\n",
       "      <td>3</td>\n",
       "      <td>Dr. Richard Scott</td>\n",
       "      <td>M</td>\n",
       "      <td>12th</td>\n",
       "      <td>Huang High School</td>\n",
       "      <td>67</td>\n",
       "      <td>58</td>\n",
       "      <td>0</td>\n",
       "      <td>District</td>\n",
       "      <td>2917</td>\n",
       "      <td>1910635</td>\n",
       "    </tr>\n",
       "    <tr>\n",
       "      <th>4</th>\n",
       "      <td>4</td>\n",
       "      <td>Bonnie Ray</td>\n",
       "      <td>F</td>\n",
       "      <td>9th</td>\n",
       "      <td>Huang High School</td>\n",
       "      <td>97</td>\n",
       "      <td>84</td>\n",
       "      <td>0</td>\n",
       "      <td>District</td>\n",
       "      <td>2917</td>\n",
       "      <td>1910635</td>\n",
       "    </tr>\n",
       "  </tbody>\n",
       "</table>\n",
       "</div>"
      ],
      "text/plain": [
       "   Student ID       student_name gender grade        school_name  \\\n",
       "0           0       Paul Bradley      M   9th  Huang High School   \n",
       "1           1       Victor Smith      M  12th  Huang High School   \n",
       "2           2    Kevin Rodriguez      M  12th  Huang High School   \n",
       "3           3  Dr. Richard Scott      M  12th  Huang High School   \n",
       "4           4         Bonnie Ray      F   9th  Huang High School   \n",
       "\n",
       "   reading_score  math_score  School ID      type  size   budget  \n",
       "0             66          79          0  District  2917  1910635  \n",
       "1             94          61          0  District  2917  1910635  \n",
       "2             90          60          0  District  2917  1910635  \n",
       "3             67          58          0  District  2917  1910635  \n",
       "4             97          84          0  District  2917  1910635  "
      ]
     },
     "execution_count": 58,
     "metadata": {},
     "output_type": "execute_result"
    }
   ],
   "source": [
    "school_data_complete.head()"
   ]
  },
  {
   "cell_type": "code",
   "execution_count": null,
   "id": "06b16f22-84ee-48b0-ab06-b479128de7a6",
   "metadata": {},
   "outputs": [],
   "source": [
    "\n",
    "\n",
    "\n",
    "    "
   ]
  },
  {
   "cell_type": "code",
   "execution_count": 48,
   "id": "38df6498-b33b-4c2c-a07d-511384fbd7f0",
   "metadata": {},
   "outputs": [
    {
     "data": {
      "text/plain": [
       "Index(['Student ID', 'student_name', 'gender', 'grade', 'school_name',\n",
       "       'reading_score', 'math_score', 'School ID', 'type', 'size', 'budget'],\n",
       "      dtype='object')"
      ]
     },
     "execution_count": 48,
     "metadata": {},
     "output_type": "execute_result"
    }
   ],
   "source": [
    "school_data_complete.columns"
   ]
  },
  {
   "cell_type": "code",
   "execution_count": 54,
   "id": "66d7c9ac-e48e-411e-9cbd-50743fb7d16a",
   "metadata": {},
   "outputs": [],
   "source": [
    "total_schools= school_data_complete['School ID'].unique()"
   ]
  },
  {
   "cell_type": "code",
   "execution_count": 55,
   "id": "bb7916b5-72ed-43a5-98e8-13f83f73681c",
   "metadata": {},
   "outputs": [
    {
     "data": {
      "text/plain": [
       "array([ 0,  1,  2,  3,  4,  5,  6,  7,  8,  9, 10, 11, 12, 13, 14],\n",
       "      dtype=int64)"
      ]
     },
     "execution_count": 55,
     "metadata": {},
     "output_type": "execute_result"
    }
   ],
   "source": [
    "total_schools"
   ]
  },
  {
   "cell_type": "code",
   "execution_count": 56,
   "id": "3f9d9d12-2eeb-4c1c-a0f5-05f1e1d39511",
   "metadata": {},
   "outputs": [],
   "source": [
    "total_schools= len(total_schools)"
   ]
  },
  {
   "cell_type": "code",
   "execution_count": 57,
   "id": "17a8fce4-8344-46ec-bb47-cdd0c2849152",
   "metadata": {},
   "outputs": [
    {
     "data": {
      "text/plain": [
       "15"
      ]
     },
     "execution_count": 57,
     "metadata": {},
     "output_type": "execute_result"
    }
   ],
   "source": [
    "total_schools"
   ]
  },
  {
   "cell_type": "code",
   "execution_count": 140,
   "id": "cce67a71-c3e3-4149-a867-38193e41d46f",
   "metadata": {},
   "outputs": [
    {
     "data": {
      "text/plain": [
       "39170"
      ]
     },
     "execution_count": 140,
     "metadata": {},
     "output_type": "execute_result"
    }
   ],
   "source": [
    "total_students= school_data_complete['Student ID'].unique()\n",
    "total_students= len(total_students)\n",
    "total_students"
   ]
  },
  {
   "cell_type": "code",
   "execution_count": 89,
   "id": "f36e06f2-cddd-487d-9528-66a50e759772",
   "metadata": {},
   "outputs": [
    {
     "data": {
      "text/plain": [
       "24649428"
      ]
     },
     "execution_count": 89,
     "metadata": {},
     "output_type": "execute_result"
    }
   ],
   "source": [
    "no_duplicates_ID= school_data_complete.drop_duplicates(subset='School ID')\n",
    "no_duplicates_ID\n",
    "total_budget = no_duplicates_ID['budget'].sum()\n",
    "total_budget"
   ]
  },
  {
   "cell_type": "code",
   "execution_count": 168,
   "id": "76a5e2b6-539d-4aac-b179-357dc2c9e296",
   "metadata": {},
   "outputs": [],
   "source": [
    "#--District Summary --\n",
    "#Total Schools $\n",
    "#Total Students $\n",
    "#Total Budget $\n",
    "#Average Math Score $\n",
    "#Average Reading Score $\n",
    "#Passing Math (The percentage of students that passed math.) -- passing = math_score > 69 / total_students\n",
    "#Passing Reading (The percentage of students that passed reading.) reading_score > 69 / total_students\n",
    "#Overall Passing (The percentage of students that passed math **and** reading.) math score>= 69 AND reading_score > 69 / total_students"
   ]
  },
  {
   "cell_type": "code",
   "execution_count": 112,
   "id": "b5bf5df0-b259-46a0-964e-4fc5486aad16",
   "metadata": {},
   "outputs": [
    {
     "data": {
      "text/plain": [
       "78.98537145774827"
      ]
     },
     "execution_count": 112,
     "metadata": {},
     "output_type": "execute_result"
    }
   ],
   "source": [
    "average_math= school_data_complete['math_score'].mean()\n",
    "average_math\n",
    "\n",
    "\n",
    "\n",
    "\n",
    "\n"
   ]
  },
  {
   "cell_type": "code",
   "execution_count": 113,
   "id": "22585240-3ae9-473a-950d-02d379a64fed",
   "metadata": {},
   "outputs": [
    {
     "data": {
      "text/plain": [
       "81.87784018381414"
      ]
     },
     "execution_count": 113,
     "metadata": {},
     "output_type": "execute_result"
    }
   ],
   "source": [
    "average_reading= school_data_complete['reading_score'].mean()\n",
    "average_reading"
   ]
  },
  {
   "cell_type": "code",
   "execution_count": null,
   "id": "11279cf7-2e5b-44ef-8d2a-30ce9328c8b9",
   "metadata": {},
   "outputs": [],
   "source": []
  },
  {
   "cell_type": "code",
   "execution_count": 181,
   "id": "895b8a62-fec9-43e2-bbb3-faacfbed45ef",
   "metadata": {},
   "outputs": [
    {
     "data": {
      "text/plain": [
       "74.9808526933878"
      ]
     },
     "execution_count": 181,
     "metadata": {},
     "output_type": "execute_result"
    }
   ],
   "source": [
    "school_data_complete['math_score']= school_data_complete['math_score'].astype(float)\n",
    "passing_math = school_data_complete.loc[school_data_complete[\"math_score\"] >=70]\n",
    "passing_math_percent = (len(passing_math)/total_students)*100\n",
    "passing_math_percent\n",
    "\n",
    "\n",
    "#passing_math_percent = (passing_math / total_students) * 100"
   ]
  },
  {
   "cell_type": "code",
   "execution_count": 182,
   "id": "b3b18450-ba67-44ac-9198-75c1a3e0951a",
   "metadata": {},
   "outputs": [
    {
     "data": {
      "text/plain": [
       "85.80546336482001"
      ]
     },
     "execution_count": 182,
     "metadata": {},
     "output_type": "execute_result"
    }
   ],
   "source": [
    "school_data_complete['reading_score']= school_data_complete['reading_score'].astype(float)\n",
    "passing_read = school_data_complete.loc[school_data_complete[\"reading_score\"] >=70]\n",
    "passing_read_percent = (len(passing_read)/total_students)*100\n",
    "passing_read_percent"
   ]
  },
  {
   "cell_type": "code",
   "execution_count": 186,
   "id": "909edd2b-0651-4feb-9fc2-f973671e5eab",
   "metadata": {},
   "outputs": [
    {
     "data": {
      "text/plain": [
       "65.17232575950983"
      ]
     },
     "execution_count": 186,
     "metadata": {},
     "output_type": "execute_result"
    }
   ],
   "source": [
    "combined_passing = school_data_complete.loc[(school_data_complete['reading_score'] >=70) & (school_data_complete['math_score'] > 69)]\n",
    "combined_passing_percent = (len(combined_passing)/total_students)*100\n",
    "combined_passing_percent"
   ]
  },
  {
   "cell_type": "code",
   "execution_count": null,
   "id": "407a292a-59c4-45a2-9018-a8c03ad6c918",
   "metadata": {},
   "outputs": [],
   "source": [
    "#create data frame to hold values"
   ]
  },
  {
   "cell_type": "code",
   "execution_count": 205,
   "id": "a5453bc5-e61c-4a01-bdcc-d9be2a5a5a88",
   "metadata": {},
   "outputs": [],
   "source": [
    "results = [{\n",
    "    \"Total Schools\": total_schools,\n",
    "    \"Total Students\": total_students,\n",
    "    \"Total Budget\": total_budget,\n",
    "    \"Average Math Score\": average_math, \n",
    "    \"Average Reading Score\": average_reading,\n",
    "    \"% Passing Math\": passing_math_percent,\n",
    "    \"% Passing Reading\": passing_read_percent,\n",
    "    \"% Overall Passing\": combined_passing_percent}]"
   ]
  },
  {
   "cell_type": "code",
   "execution_count": 214,
   "id": "e9aaed40-0fd0-4bae-903e-37c10fea3c2f",
   "metadata": {},
   "outputs": [
    {
     "data": {
      "text/html": [
       "<div>\n",
       "<style scoped>\n",
       "    .dataframe tbody tr th:only-of-type {\n",
       "        vertical-align: middle;\n",
       "    }\n",
       "\n",
       "    .dataframe tbody tr th {\n",
       "        vertical-align: top;\n",
       "    }\n",
       "\n",
       "    .dataframe thead th {\n",
       "        text-align: right;\n",
       "    }\n",
       "</style>\n",
       "<table border=\"1\" class=\"dataframe\">\n",
       "  <thead>\n",
       "    <tr style=\"text-align: right;\">\n",
       "      <th></th>\n",
       "      <th>Total Schools</th>\n",
       "      <th>Total Students</th>\n",
       "      <th>Total Budget</th>\n",
       "      <th>Average Math Score</th>\n",
       "      <th>Average Reading Score</th>\n",
       "      <th>% Passing Math</th>\n",
       "      <th>% Passing Reading</th>\n",
       "      <th>% Overall Passing</th>\n",
       "    </tr>\n",
       "  </thead>\n",
       "  <tbody>\n",
       "    <tr>\n",
       "      <th>0</th>\n",
       "      <td>15</td>\n",
       "      <td>39170</td>\n",
       "      <td>24649428</td>\n",
       "      <td>78.985371</td>\n",
       "      <td>81.87784</td>\n",
       "      <td>74.980853</td>\n",
       "      <td>85.805463</td>\n",
       "      <td>65.172326</td>\n",
       "    </tr>\n",
       "  </tbody>\n",
       "</table>\n",
       "</div>"
      ],
      "text/plain": [
       "   Total Schools  Total Students  Total Budget  Average Math Score  \\\n",
       "0             15           39170      24649428           78.985371   \n",
       "\n",
       "   Average Reading Score  % Passing Math  % Passing Reading  % Overall Passing  \n",
       "0               81.87784       74.980853          85.805463          65.172326  "
      ]
     },
     "execution_count": 214,
     "metadata": {},
     "output_type": "execute_result"
    }
   ],
   "source": [
    "district_summary_df = pd.DataFrame(results)\n",
    "district_summary_df"
   ]
  },
  {
   "cell_type": "code",
   "execution_count": null,
   "id": "1b5001e2-52fe-4d83-91ff-0379bcd448f9",
   "metadata": {},
   "outputs": [],
   "source": [
    "* Create an overview table that summarizes key metrics about each school, including:\n",
    "  * School Name\n",
    "  * School Type\n",
    "  * Total Students\n",
    "  * Total School Budget\n",
    "  * Per Student Budget\n",
    "  * Average Math Score\n",
    "  * Average Reading Score\n",
    "  * % Passing Math (The percentage of students that passed math.)\n",
    "  * % Passing Reading (The percentage of students that passed reading.)\n",
    "  * % Overall Passing (The percentage of students that passed math **and** reading.)\n"
   ]
  },
  {
   "cell_type": "code",
   "execution_count": 263,
   "id": "a54c75b4-f66e-43d1-a4aa-8887d5a95af5",
   "metadata": {},
   "outputs": [
    {
     "data": {
      "text/html": [
       "<div>\n",
       "<style scoped>\n",
       "    .dataframe tbody tr th:only-of-type {\n",
       "        vertical-align: middle;\n",
       "    }\n",
       "\n",
       "    .dataframe tbody tr th {\n",
       "        vertical-align: top;\n",
       "    }\n",
       "\n",
       "    .dataframe thead th {\n",
       "        text-align: right;\n",
       "    }\n",
       "</style>\n",
       "<table border=\"1\" class=\"dataframe\">\n",
       "  <thead>\n",
       "    <tr style=\"text-align: right;\">\n",
       "      <th></th>\n",
       "      <th>Student ID</th>\n",
       "      <th>student_name</th>\n",
       "      <th>gender</th>\n",
       "      <th>grade</th>\n",
       "      <th>school_name</th>\n",
       "      <th>reading_score</th>\n",
       "      <th>math_score</th>\n",
       "      <th>School ID</th>\n",
       "      <th>type</th>\n",
       "      <th>size</th>\n",
       "      <th>budget</th>\n",
       "    </tr>\n",
       "  </thead>\n",
       "  <tbody>\n",
       "    <tr>\n",
       "      <th>0</th>\n",
       "      <td>0</td>\n",
       "      <td>Paul Bradley</td>\n",
       "      <td>M</td>\n",
       "      <td>9th</td>\n",
       "      <td>Huang High School</td>\n",
       "      <td>66.0</td>\n",
       "      <td>79.0</td>\n",
       "      <td>0</td>\n",
       "      <td>District</td>\n",
       "      <td>2917</td>\n",
       "      <td>1910635</td>\n",
       "    </tr>\n",
       "    <tr>\n",
       "      <th>1</th>\n",
       "      <td>1</td>\n",
       "      <td>Victor Smith</td>\n",
       "      <td>M</td>\n",
       "      <td>12th</td>\n",
       "      <td>Huang High School</td>\n",
       "      <td>94.0</td>\n",
       "      <td>61.0</td>\n",
       "      <td>0</td>\n",
       "      <td>District</td>\n",
       "      <td>2917</td>\n",
       "      <td>1910635</td>\n",
       "    </tr>\n",
       "    <tr>\n",
       "      <th>2</th>\n",
       "      <td>2</td>\n",
       "      <td>Kevin Rodriguez</td>\n",
       "      <td>M</td>\n",
       "      <td>12th</td>\n",
       "      <td>Huang High School</td>\n",
       "      <td>90.0</td>\n",
       "      <td>60.0</td>\n",
       "      <td>0</td>\n",
       "      <td>District</td>\n",
       "      <td>2917</td>\n",
       "      <td>1910635</td>\n",
       "    </tr>\n",
       "    <tr>\n",
       "      <th>3</th>\n",
       "      <td>3</td>\n",
       "      <td>Dr. Richard Scott</td>\n",
       "      <td>M</td>\n",
       "      <td>12th</td>\n",
       "      <td>Huang High School</td>\n",
       "      <td>67.0</td>\n",
       "      <td>58.0</td>\n",
       "      <td>0</td>\n",
       "      <td>District</td>\n",
       "      <td>2917</td>\n",
       "      <td>1910635</td>\n",
       "    </tr>\n",
       "    <tr>\n",
       "      <th>4</th>\n",
       "      <td>4</td>\n",
       "      <td>Bonnie Ray</td>\n",
       "      <td>F</td>\n",
       "      <td>9th</td>\n",
       "      <td>Huang High School</td>\n",
       "      <td>97.0</td>\n",
       "      <td>84.0</td>\n",
       "      <td>0</td>\n",
       "      <td>District</td>\n",
       "      <td>2917</td>\n",
       "      <td>1910635</td>\n",
       "    </tr>\n",
       "    <tr>\n",
       "      <th>...</th>\n",
       "      <td>...</td>\n",
       "      <td>...</td>\n",
       "      <td>...</td>\n",
       "      <td>...</td>\n",
       "      <td>...</td>\n",
       "      <td>...</td>\n",
       "      <td>...</td>\n",
       "      <td>...</td>\n",
       "      <td>...</td>\n",
       "      <td>...</td>\n",
       "      <td>...</td>\n",
       "    </tr>\n",
       "    <tr>\n",
       "      <th>39165</th>\n",
       "      <td>39165</td>\n",
       "      <td>Donna Howard</td>\n",
       "      <td>F</td>\n",
       "      <td>12th</td>\n",
       "      <td>Thomas High School</td>\n",
       "      <td>99.0</td>\n",
       "      <td>90.0</td>\n",
       "      <td>14</td>\n",
       "      <td>Charter</td>\n",
       "      <td>1635</td>\n",
       "      <td>1043130</td>\n",
       "    </tr>\n",
       "    <tr>\n",
       "      <th>39166</th>\n",
       "      <td>39166</td>\n",
       "      <td>Dawn Bell</td>\n",
       "      <td>F</td>\n",
       "      <td>10th</td>\n",
       "      <td>Thomas High School</td>\n",
       "      <td>95.0</td>\n",
       "      <td>70.0</td>\n",
       "      <td>14</td>\n",
       "      <td>Charter</td>\n",
       "      <td>1635</td>\n",
       "      <td>1043130</td>\n",
       "    </tr>\n",
       "    <tr>\n",
       "      <th>39167</th>\n",
       "      <td>39167</td>\n",
       "      <td>Rebecca Tanner</td>\n",
       "      <td>F</td>\n",
       "      <td>9th</td>\n",
       "      <td>Thomas High School</td>\n",
       "      <td>73.0</td>\n",
       "      <td>84.0</td>\n",
       "      <td>14</td>\n",
       "      <td>Charter</td>\n",
       "      <td>1635</td>\n",
       "      <td>1043130</td>\n",
       "    </tr>\n",
       "    <tr>\n",
       "      <th>39168</th>\n",
       "      <td>39168</td>\n",
       "      <td>Desiree Kidd</td>\n",
       "      <td>F</td>\n",
       "      <td>10th</td>\n",
       "      <td>Thomas High School</td>\n",
       "      <td>99.0</td>\n",
       "      <td>90.0</td>\n",
       "      <td>14</td>\n",
       "      <td>Charter</td>\n",
       "      <td>1635</td>\n",
       "      <td>1043130</td>\n",
       "    </tr>\n",
       "    <tr>\n",
       "      <th>39169</th>\n",
       "      <td>39169</td>\n",
       "      <td>Carolyn Jackson</td>\n",
       "      <td>F</td>\n",
       "      <td>11th</td>\n",
       "      <td>Thomas High School</td>\n",
       "      <td>95.0</td>\n",
       "      <td>75.0</td>\n",
       "      <td>14</td>\n",
       "      <td>Charter</td>\n",
       "      <td>1635</td>\n",
       "      <td>1043130</td>\n",
       "    </tr>\n",
       "  </tbody>\n",
       "</table>\n",
       "<p>39170 rows × 11 columns</p>\n",
       "</div>"
      ],
      "text/plain": [
       "       Student ID       student_name gender grade         school_name  \\\n",
       "0               0       Paul Bradley      M   9th   Huang High School   \n",
       "1               1       Victor Smith      M  12th   Huang High School   \n",
       "2               2    Kevin Rodriguez      M  12th   Huang High School   \n",
       "3               3  Dr. Richard Scott      M  12th   Huang High School   \n",
       "4               4         Bonnie Ray      F   9th   Huang High School   \n",
       "...           ...                ...    ...   ...                 ...   \n",
       "39165       39165       Donna Howard      F  12th  Thomas High School   \n",
       "39166       39166          Dawn Bell      F  10th  Thomas High School   \n",
       "39167       39167     Rebecca Tanner      F   9th  Thomas High School   \n",
       "39168       39168       Desiree Kidd      F  10th  Thomas High School   \n",
       "39169       39169    Carolyn Jackson      F  11th  Thomas High School   \n",
       "\n",
       "       reading_score  math_score  School ID      type  size   budget  \n",
       "0               66.0        79.0          0  District  2917  1910635  \n",
       "1               94.0        61.0          0  District  2917  1910635  \n",
       "2               90.0        60.0          0  District  2917  1910635  \n",
       "3               67.0        58.0          0  District  2917  1910635  \n",
       "4               97.0        84.0          0  District  2917  1910635  \n",
       "...              ...         ...        ...       ...   ...      ...  \n",
       "39165           99.0        90.0         14   Charter  1635  1043130  \n",
       "39166           95.0        70.0         14   Charter  1635  1043130  \n",
       "39167           73.0        84.0         14   Charter  1635  1043130  \n",
       "39168           99.0        90.0         14   Charter  1635  1043130  \n",
       "39169           95.0        75.0         14   Charter  1635  1043130  \n",
       "\n",
       "[39170 rows x 11 columns]"
      ]
     },
     "execution_count": 263,
     "metadata": {},
     "output_type": "execute_result"
    }
   ],
   "source": [
    "school_data_complete\n"
   ]
  },
  {
   "cell_type": "code",
   "execution_count": 276,
   "id": "cbbd0394-aad1-41fc-93aa-ee0db8a670e0",
   "metadata": {},
   "outputs": [
    {
     "data": {
      "text/plain": [
       "['Bailey High School',\n",
       " 'Cabrera High School',\n",
       " 'Figueroa High School',\n",
       " 'Ford High School',\n",
       " 'Griffin High School',\n",
       " 'Hernandez High School',\n",
       " 'Holden High School',\n",
       " 'Huang High School',\n",
       " 'Johnson High School',\n",
       " 'Pena High School',\n",
       " 'Rodriguez High School',\n",
       " 'Shelton High School',\n",
       " 'Thomas High School',\n",
       " 'Wilson High School',\n",
       " 'Wright High School']"
      ]
     },
     "execution_count": 276,
     "metadata": {},
     "output_type": "execute_result"
    }
   ],
   "source": [
    "no_duplicates_school= school_data_complete.drop_duplicates(subset='school_name')\n",
    "#new_indexes = school_data_complete['school_name'].tolist()\n",
    "new_index = no_duplicates_school['school_name'].tolist()\n",
    "abc_index = sorted(new_index)\n",
    "abc_index\n"
   ]
  },
  {
   "cell_type": "code",
   "execution_count": null,
   "id": "54f43a4e-0972-470d-92a1-b4546a0c692c",
   "metadata": {},
   "outputs": [],
   "source": []
  },
  {
   "cell_type": "code",
   "execution_count": 292,
   "id": "7d387e56-d2b7-4e2d-b5f7-e8546c62575b",
   "metadata": {},
   "outputs": [],
   "source": [
    "grouped_bailey = school_data_complete.loc[school_data_complete['school_name'] == 'Bailey High School', :]\n",
    "bailey_type = 'District'\n",
    "bailey_total_students = grouped_bailey['student_name'].count()\n",
    "bailey_budget = 3124928\n",
    "bailey_student_budget = bailey_budget / bailey_total_students\n",
    "bailey_math_average = grouped_bailey['math_score'].mean()\n",
    "bailey_reading_average = grouped_bailey['reading_score'].mean()\n",
    "bailey_passing_math = grouped_bailey.loc[grouped_bailey[\"math_score\"] >=70]\n",
    "bailey_math_percent = (len(bailey_passing_math)/bailey_total_students)*100\n",
    "bailey_passing_read = grouped_bailey.loc[grouped_bailey[\"reading_score\"] >=70]\n",
    "bailey_read_percent = (len(bailey_passing_read)/bailey_total_students)*100\n",
    "bailey_overall_passing = grouped_bailey.loc[(grouped_bailey['reading_score'] >=70) & (grouped_bailey['math_score'] >= 70)]\n",
    "bailey_overall_percent = (len(bailey_overall_passing)/bailey_total_students)*100\n",
    "\n",
    "grouped_cabrera = school_data_complete.loc[school_data_complete['school_name'] == 'Cabrera High School', :]\n",
    "cabrera_type = 'District'\n",
    "cabrera_total_students = grouped_cabrera['student_name'].count()\n",
    "cabrera_budget = 3124928\n",
    "cabrera_student_budget = cabrera_budget / cabrera_total_students\n",
    "cabrera_math_average = grouped_cabrera['math_score'].mean()\n",
    "cabrera_reading_average = grouped_cabrera['reading_score'].mean()\n",
    "cabrera_passing_math = grouped_cabrera.loc[grouped_cabrera[\"math_score\"] >=70]\n",
    "cabrera_math_percent = (len(cabrera_passing_math)/cabrera_total_students)*100\n",
    "cabrera_passing_read = grouped_cabrera.loc[grouped_cabrera[\"reading_score\"] >=70]\n",
    "cabrera_read_percent = (len(cabrera_passing_read)/cabrera_total_students)*100\n",
    "cabrera_overall_passing = grouped_cabrera.loc[(grouped_cabrera['reading_score'] >=70) & (grouped_cabrera['math_score'] >= 70)]\n",
    "cabrera_overall_percent = (len(cabrera_overall_passing)/cabrera_total_students)*100\n",
    "\n"
   ]
  },
  {
   "cell_type": "code",
   "execution_count": null,
   "id": "2f3140cc-e31e-45c2-a056-4024c37eefa1",
   "metadata": {},
   "outputs": [],
   "source": []
  },
  {
   "cell_type": "code",
   "execution_count": null,
   "id": "3826c122-3b56-4d65-b555-8898d2ae1c3c",
   "metadata": {},
   "outputs": [],
   "source": []
  },
  {
   "cell_type": "code",
   "execution_count": null,
   "id": "e5c46e80-013a-4db6-a16c-be24271fe79b",
   "metadata": {},
   "outputs": [],
   "source": []
  },
  {
   "cell_type": "code",
   "execution_count": null,
   "id": "635377e1-a099-4f65-8f4d-8bff704f80ad",
   "metadata": {},
   "outputs": [],
   "source": []
  },
  {
   "cell_type": "code",
   "execution_count": null,
   "id": "2e489eae-f5cd-48d6-a4d7-152a9989d51b",
   "metadata": {},
   "outputs": [],
   "source": []
  },
  {
   "cell_type": "code",
   "execution_count": null,
   "id": "4cb3e265-ef14-45d6-ad01-8fb9afbbbc5f",
   "metadata": {},
   "outputs": [],
   "source": []
  },
  {
   "cell_type": "code",
   "execution_count": null,
   "id": "90a1becc-c456-4b7d-b8c4-170992786178",
   "metadata": {},
   "outputs": [],
   "source": []
  },
  {
   "cell_type": "code",
   "execution_count": null,
   "id": "d4e70734-6b35-44a4-89d4-30e33db3912d",
   "metadata": {},
   "outputs": [],
   "source": []
  },
  {
   "cell_type": "code",
   "execution_count": 294,
   "id": "2d038171-3714-442f-9ce6-287e95d70304",
   "metadata": {},
   "outputs": [],
   "source": [
    "school_results = {\n",
    "    \"School Type\": [bailey_type, cabrera_type],\n",
    "    \"Total Students\": [bailey_total_students, cabrera_total_students],\n",
    "    \"School Budget\": [bailey_budget, cabrera_budget],\n",
    "    \"Budget per Student\": [bailey_student_budget, cabrera_student_budget], \n",
    "    \"Average Math Score\": [bailey_math_average, cabrera_math_average],\n",
    "    \"Average Reading Score\": [bailey_reading_average, cabrera_reading_average],\n",
    "    \"% Passing Math\": [bailey_math_percent, cabrera_math_percent],\n",
    "    \"% Passing Reading\": [bailey_read_percent, cabrera_read_percent],\n",
    "    \"% Overall Passing\": [bailey_overall_percent, cabrera_overall_percent],\n",
    "     'Index':[abc_index[0],abc_index[1]]       #,abc_index[2],abc_index[3],abc_index[4],abc_index[5],abc_index[6],abc_index[7],abc_index[8],abc_index[9],abc_index[10],abc_index[11],abc_index[12],abc_index[13],abc_index[14]]\n",
    "\n",
    "}"
   ]
  },
  {
   "cell_type": "code",
   "execution_count": 295,
   "id": "2c3d22e4-e1e9-49a1-aac9-c37d0b9c4ae6",
   "metadata": {},
   "outputs": [
    {
     "data": {
      "text/html": [
       "<div>\n",
       "<style scoped>\n",
       "    .dataframe tbody tr th:only-of-type {\n",
       "        vertical-align: middle;\n",
       "    }\n",
       "\n",
       "    .dataframe tbody tr th {\n",
       "        vertical-align: top;\n",
       "    }\n",
       "\n",
       "    .dataframe thead th {\n",
       "        text-align: right;\n",
       "    }\n",
       "</style>\n",
       "<table border=\"1\" class=\"dataframe\">\n",
       "  <thead>\n",
       "    <tr style=\"text-align: right;\">\n",
       "      <th></th>\n",
       "      <th>School Type</th>\n",
       "      <th>Total Students</th>\n",
       "      <th>School Budget</th>\n",
       "      <th>Budget per Student</th>\n",
       "      <th>Average Math Score</th>\n",
       "      <th>Average Reading Score</th>\n",
       "      <th>% Passing Math</th>\n",
       "      <th>% Passing Reading</th>\n",
       "      <th>% Overall Passing</th>\n",
       "    </tr>\n",
       "    <tr>\n",
       "      <th>Index</th>\n",
       "      <th></th>\n",
       "      <th></th>\n",
       "      <th></th>\n",
       "      <th></th>\n",
       "      <th></th>\n",
       "      <th></th>\n",
       "      <th></th>\n",
       "      <th></th>\n",
       "      <th></th>\n",
       "    </tr>\n",
       "  </thead>\n",
       "  <tbody>\n",
       "    <tr>\n",
       "      <th>Bailey High School</th>\n",
       "      <td>District</td>\n",
       "      <td>4976</td>\n",
       "      <td>3124928</td>\n",
       "      <td>628.000000</td>\n",
       "      <td>77.048432</td>\n",
       "      <td>81.033963</td>\n",
       "      <td>66.680064</td>\n",
       "      <td>81.933280</td>\n",
       "      <td>54.642283</td>\n",
       "    </tr>\n",
       "    <tr>\n",
       "      <th>Cabrera High School</th>\n",
       "      <td>District</td>\n",
       "      <td>1858</td>\n",
       "      <td>3124928</td>\n",
       "      <td>1681.877287</td>\n",
       "      <td>83.061895</td>\n",
       "      <td>83.975780</td>\n",
       "      <td>94.133477</td>\n",
       "      <td>97.039828</td>\n",
       "      <td>91.334769</td>\n",
       "    </tr>\n",
       "  </tbody>\n",
       "</table>\n",
       "</div>"
      ],
      "text/plain": [
       "                    School Type  Total Students  School Budget  \\\n",
       "Index                                                            \n",
       "Bailey High School     District            4976        3124928   \n",
       "Cabrera High School    District            1858        3124928   \n",
       "\n",
       "                     Budget per Student  Average Math Score  \\\n",
       "Index                                                         \n",
       "Bailey High School           628.000000           77.048432   \n",
       "Cabrera High School         1681.877287           83.061895   \n",
       "\n",
       "                     Average Reading Score  % Passing Math  % Passing Reading  \\\n",
       "Index                                                                           \n",
       "Bailey High School               81.033963       66.680064          81.933280   \n",
       "Cabrera High School              83.975780       94.133477          97.039828   \n",
       "\n",
       "                     % Overall Passing  \n",
       "Index                                   \n",
       "Bailey High School           54.642283  \n",
       "Cabrera High School          91.334769  "
      ]
     },
     "execution_count": 295,
     "metadata": {},
     "output_type": "execute_result"
    }
   ],
   "source": [
    "school_summary_df = pd.DataFrame(school_results)\n",
    "school_summary_df.set_index('Index', inplace=True)\n",
    "school_summary_df\n",
    "\n",
    "#need to save school list abc and then use that in new_index = ['Safari', 'Iceweasel', 'Comodo Dragon']\n",
    "#df.reindex(new_index)"
   ]
  },
  {
   "cell_type": "code",
   "execution_count": null,
   "id": "0632b9e8-53c4-49ef-8812-34e453f8231a",
   "metadata": {},
   "outputs": [],
   "source": []
  },
  {
   "cell_type": "code",
   "execution_count": null,
   "id": "c362d83e-e951-49a4-b300-b916b26525ab",
   "metadata": {},
   "outputs": [],
   "source": []
  },
  {
   "cell_type": "code",
   "execution_count": null,
   "id": "f457167d-acb6-4dda-8ce6-da4408d7ca1d",
   "metadata": {},
   "outputs": [],
   "source": []
  },
  {
   "cell_type": "code",
   "execution_count": null,
   "id": "e094b527-87bc-4122-9433-0fdb127ea952",
   "metadata": {},
   "outputs": [],
   "source": []
  }
 ],
 "metadata": {
  "kernelspec": {
   "display_name": "Python 3",
   "language": "python",
   "name": "python3"
  },
  "language_info": {
   "codemirror_mode": {
    "name": "ipython",
    "version": 3
   },
   "file_extension": ".py",
   "mimetype": "text/x-python",
   "name": "python",
   "nbconvert_exporter": "python",
   "pygments_lexer": "ipython3",
   "version": "3.7.10"
  }
 },
 "nbformat": 4,
 "nbformat_minor": 5
}
